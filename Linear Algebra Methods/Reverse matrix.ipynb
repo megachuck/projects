{
 "cells": [
  {
   "cell_type": "code",
   "execution_count": 9,
   "metadata": {},
   "outputs": [],
   "source": [
    "import numpy as np\n",
    "a = np.array([[3,5,-2],\n",
    "              [1,-3,2],\n",
    "              [6,7,-3]], dtype = np.float)"
   ]
  },
  {
   "cell_type": "code",
   "execution_count": 10,
   "metadata": {},
   "outputs": [],
   "source": [
    "def rev_m(a):\n",
    "    \"\"\"\n",
    "    Finder of reverse matrix.\n",
    "    \n",
    "    this function finds reverse matrix\n",
    "    \n",
    "    input: numpy float matrix \n",
    "        |ex:rev_m(numpy_float_matrix)\n",
    "    \n",
    "    output: numpy float matrix\n",
    "    \n",
    "    variables:\n",
    "        |m     - matrix\n",
    "        |i     - identity matrix/reverse matrix after all transformations\n",
    "        |cdsc  - scalar of current main diagonal element [Current Diagonal SCalar]\n",
    "        |sc    - scalar of row thith current main diagonal element\n",
    "        |n     - length of matrix\n",
    "        |cd    - index of current main diagonal element\n",
    "        |j     - index of rows that are not row with current main diagonal element \n",
    "    \n",
    "    \"\"\"\n",
    "    cdsc = 1. # scalar of current main diagonal element [Current Diagonal SCalar]\n",
    "    m = np.copy(a) #copy of matrix\n",
    "    n = len(m) # length of matrix\n",
    "    i = np.eye(n) # Identity matrix n x n\n",
    "    for cd in range(n): # index of current diagonal element\n",
    "        cdsc = 1. / m[cd][cd] # scalar for element of main diagonal\n",
    "        m[cd,:] *= cdsc # scaling row and making diagonal element equal 1\n",
    "        i[cd,:] *= cdsc # scaling i row\n",
    "        for j in range(n): # making 0 in column of current diagonal element by summing rows\n",
    "            if j == cd: continue # skipping cd row\n",
    "            sc = m[j][cd] # scalar for cd row for substracting\n",
    "            m[j] = m[j] - sc * m[cd] # substructing and making 0 in column with current diagonal element\n",
    "            i[j] = i[j] - sc * i[cd] # making same transformations with identity matrix\n",
    "    return(i)"
   ]
  },
  {
   "cell_type": "code",
   "execution_count": 11,
   "metadata": {},
   "outputs": [
    {
     "data": {
      "text/plain": [
       "array([[-0.5,  0.1,  0.4],\n",
       "       [ 1.5,  0.3, -0.8],\n",
       "       [ 2.5,  0.9, -1.4]])"
      ]
     },
     "execution_count": 11,
     "metadata": {},
     "output_type": "execute_result"
    }
   ],
   "source": [
    "rev_m(a)"
   ]
  },
  {
   "cell_type": "code",
   "execution_count": 8,
   "metadata": {},
   "outputs": [
    {
     "data": {
      "text/plain": [
       "array([[ 7., -4.],\n",
       "       [-5.,  3.]])"
      ]
     },
     "execution_count": 8,
     "metadata": {},
     "output_type": "execute_result"
    }
   ],
   "source": [
    "b = np.array([[3,4],\n",
    "              [5,7]], dtype = np.float)\n",
    "rev_m(b)"
   ]
  },
  {
   "cell_type": "code",
   "execution_count": null,
   "metadata": {},
   "outputs": [],
   "source": []
  }
 ],
 "metadata": {
  "kernelspec": {
   "display_name": "Python 3",
   "language": "python",
   "name": "python3"
  },
  "language_info": {
   "codemirror_mode": {
    "name": "ipython",
    "version": 3
   },
   "file_extension": ".py",
   "mimetype": "text/x-python",
   "name": "python",
   "nbconvert_exporter": "python",
   "pygments_lexer": "ipython3",
   "version": "3.7.4"
  }
 },
 "nbformat": 4,
 "nbformat_minor": 2
}
