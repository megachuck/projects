{
 "cells": [
  {
   "cell_type": "code",
   "execution_count": 223,
   "metadata": {},
   "outputs": [],
   "source": [
    "import numpy as np\n",
    "a = np.array([[2.,1.,3.,9.],\n",
    "              [1.,-2.,1.,-2.],\n",
    "              [3.,2.,2.,7.]], dtype = np.float)"
   ]
  },
  {
   "cell_type": "code",
   "execution_count": 224,
   "metadata": {},
   "outputs": [
    {
     "data": {
      "text/plain": [
       "array([[ 2,  1,  3,  9],\n",
       "       [ 1, -2,  1, -2],\n",
       "       [ 3,  2,  2,  7]])"
      ]
     },
     "execution_count": 224,
     "metadata": {},
     "output_type": "execute_result"
    }
   ],
   "source": [
    "a.astype(int)"
   ]
  },
  {
   "cell_type": "code",
   "execution_count": 225,
   "metadata": {},
   "outputs": [],
   "source": [
    "def lin_eq(a):\n",
    "    \"\"\"\n",
    "    Gaus method of solving linear equations.\n",
    "    \n",
    "    this function solves systems of linear equations by using Thom Yves' Gaus interpretation\n",
    "    \n",
    "    input: numpy float matrix \n",
    "        |ex:lin_eq(numpy_float_matrix)\n",
    "    \n",
    "    output: numpy float matrix\n",
    "    \n",
    "    variables:\n",
    "        |dmain - matrix of coefficients\n",
    "        |d     - matrix of constant terms/answers after all transformations\n",
    "        |cdsc  - scalar of current main diagonal element [Current Diagonal SCalar]\n",
    "        |sc    - scalar of row thith current main diagonal element\n",
    "        |n     - length of coefficient matrix\n",
    "        |cd    - index of current main diagonal element\n",
    "        |i     - index of rows that are not row with current main diagonal element \n",
    "    \n",
    "    \"\"\"\n",
    "    cdsc = 1. # scalar of current main diagonal element [Current Diagonal SCalar]\n",
    "    dmain = np.copy(a) #copy of matrix\n",
    "    n = len(dmain) # length of coefficient matrix\n",
    "    d = np.copy(a[:, n]) #column of constant terms\n",
    "    dmain = np.delete(dmain, n, axis = 1) #making dmain a coefficient matrix\n",
    "    for cd in range(n): # index of current diagonal element\n",
    "        cdsc = 1. / dmain[cd][cd] # scalar for element of main diagonal\n",
    "        dmain[cd,:] *= cdsc # scaling row and making diagonal element equal 1\n",
    "        d[cd] *= cdsc # scaling constant terms\n",
    "        for i in range(n): # making 0 in column of current diagonal element by summing rows\n",
    "            if i == cd: continue # skipping cd row\n",
    "            sc = dmain[i][cd] # scalar for cd row for substracting\n",
    "            dmain[i] = dmain[i] - sc * dmain[cd] # substructing and making 0 in column with current diagonal element\n",
    "            d[i] = d[i] - sc * d[cd] # making same transformations with ans\n",
    "    return(d)"
   ]
  },
  {
   "cell_type": "code",
   "execution_count": 226,
   "metadata": {},
   "outputs": [
    {
     "data": {
      "text/plain": [
       "array([[ 2.,  1.,  3.,  9.],\n",
       "       [ 1., -2.,  1., -2.],\n",
       "       [ 3.,  2.,  2.,  7.]])"
      ]
     },
     "execution_count": 226,
     "metadata": {},
     "output_type": "execute_result"
    }
   ],
   "source": [
    "a"
   ]
  },
  {
   "cell_type": "code",
   "execution_count": 228,
   "metadata": {
    "scrolled": true
   },
   "outputs": [
    {
     "data": {
      "text/plain": [
       "array([-1.,  2.,  3.])"
      ]
     },
     "execution_count": 228,
     "metadata": {},
     "output_type": "execute_result"
    }
   ],
   "source": [
    "lin_eq(a)"
   ]
  },
  {
   "cell_type": "code",
   "execution_count": 229,
   "metadata": {
    "scrolled": false
   },
   "outputs": [
    {
     "data": {
      "text/plain": [
       "array([  9.,  18.,  10., -16.])"
      ]
     },
     "execution_count": 229,
     "metadata": {},
     "output_type": "execute_result"
    }
   ],
   "source": [
    "b = np.array([[1.,-1.,3.,1.,5.],\n",
    "              [4.,-1.,5.,4.,4.],\n",
    "              [2.,-2.,4.,1.,6.],\n",
    "              [1.,-4.,5.,-1.,3.]])\n",
    "lin_eq(b)"
   ]
  },
  {
   "cell_type": "code",
   "execution_count": 238,
   "metadata": {},
   "outputs": [
    {
     "data": {
      "text/plain": [
       "array([  9.,  18.,  10., -16.])"
      ]
     },
     "execution_count": 238,
     "metadata": {},
     "output_type": "execute_result"
    }
   ],
   "source": [
    "lin_eq(b)"
   ]
  },
  {
   "cell_type": "code",
   "execution_count": null,
   "metadata": {},
   "outputs": [],
   "source": []
  }
 ],
 "metadata": {
  "kernelspec": {
   "display_name": "Python 3",
   "language": "python",
   "name": "python3"
  },
  "language_info": {
   "codemirror_mode": {
    "name": "ipython",
    "version": 3
   },
   "file_extension": ".py",
   "mimetype": "text/x-python",
   "name": "python",
   "nbconvert_exporter": "python",
   "pygments_lexer": "ipython3",
   "version": "3.7.4"
  }
 },
 "nbformat": 4,
 "nbformat_minor": 2
}
