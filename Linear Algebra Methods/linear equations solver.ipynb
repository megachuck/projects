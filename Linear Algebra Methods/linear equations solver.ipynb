{
 "cells": [
  {
   "cell_type": "code",
   "execution_count": 12,
   "metadata": {},
   "outputs": [],
   "source": [
    "import numpy as np\n",
    "a = np.array([[2,1,3,9],\n",
    "              [1,-2,1,-2],\n",
    "              [3,2,2,7]])"
   ]
  },
  {
   "cell_type": "code",
   "execution_count": 13,
   "metadata": {},
   "outputs": [],
   "source": [
    "def determinant_of_matrix(a):\n",
    "    ans = 0.\n",
    "    indices = list(range(len(a))) #list of indexes\n",
    "    if len(a) == 2 and len(a[0]) == 2:\n",
    "        val = a[0][0] * a[1][1] - a[1][0] * a[0][1] #determinant of 2x2 matrix\n",
    "        return val\n",
    "    for cc in indices: # finding alg_adition for each curent column\n",
    "        ac = np.copy(a) # making a copy of matrix\n",
    "        ac = np.delete(ac, (0), axis = 0) #removing first row\n",
    "        ac = np.delete(ac, (cc), axis = 1) #removing iteral column\n",
    "        sign = (-1) ** (cc % 2) # sign of -1 \n",
    "        unter_det = determinant_of_matrix(ac)\n",
    "        ans += sign * a[0][cc] * unter_det \n",
    "    return ans"
   ]
  },
  {
   "cell_type": "code",
   "execution_count": 90,
   "metadata": {},
   "outputs": [],
   "source": [
    "def lin_eq(a):\n",
    "    ans = 0\n",
    "    dmain = np.copy(a) \n",
    "    n = len(dmain)\n",
    "    d = a[:, n] #column of equationsresults\n",
    "    dmain = np.delete(dmain, (n), axis = 1) #matrix without column of answers\n",
    "    indices = list(range(n))#list of indexes\n",
    "    for ac in indices: # finding upper determinant for each curent column\n",
    "        cm = np.copy(dmain) # making a copy of matrix\n",
    "        cm = np.delete(cm, (ac), axis = 1) # deliting column where index same as var index \n",
    "        cm = np.insert(cm, (ac),d, axis = 1) # adding in that place column of equations results\n",
    "        ans = determinant_of_matrix(cm)/determinant_of_matrix(dmain) #finding answer for each variable\n",
    "        print('x',ac+1,'=',ans)"
   ]
  },
  {
   "cell_type": "code",
   "execution_count": 96,
   "metadata": {
    "scrolled": true
   },
   "outputs": [
    {
     "name": "stdout",
     "output_type": "stream",
     "text": [
      "x 1 = -1.0\n",
      "x 2 = 2.0\n",
      "x 3 = 3.0\n"
     ]
    }
   ],
   "source": [
    "lin_eq(a)"
   ]
  },
  {
   "cell_type": "code",
   "execution_count": 97,
   "metadata": {},
   "outputs": [
    {
     "data": {
      "text/plain": [
       "array([-1.,  2.,  3.])"
      ]
     },
     "execution_count": 97,
     "metadata": {},
     "output_type": "execute_result"
    }
   ],
   "source": [
    "a1 = np.array([[2,1,3],\n",
    "              [1,-2,1],\n",
    "              [3,2,2]])\n",
    "a2 = np.array([9,-2,7])\n",
    "np.linalg.solve(a1, a2)"
   ]
  },
  {
   "cell_type": "code",
   "execution_count": 98,
   "metadata": {},
   "outputs": [
    {
     "name": "stdout",
     "output_type": "stream",
     "text": [
      "x 1 = 9.0\n",
      "x 2 = 18.0\n",
      "x 3 = 10.0\n",
      "x 4 = -16.0\n"
     ]
    }
   ],
   "source": [
    "b = np.array([[1,-1,3,1,5],\n",
    "              [4,-1,5,4,4],\n",
    "              [2,-2,4,1,6],\n",
    "              [1,-4,5,-1,3]])\n",
    "lin_eq(b)"
   ]
  },
  {
   "cell_type": "code",
   "execution_count": 99,
   "metadata": {},
   "outputs": [
    {
     "data": {
      "text/plain": [
       "array([  9.,  18.,  10., -16.])"
      ]
     },
     "execution_count": 99,
     "metadata": {},
     "output_type": "execute_result"
    }
   ],
   "source": [
    "b1 = np.array([[1,-1,3,1],\n",
    "              [4,-1,5,4],\n",
    "              [2,-2,4,1],\n",
    "              [1,-4,5,-1]])\n",
    "b2 = np.array([5, 4,6, 3])\n",
    "np.linalg.solve(b1, b2)"
   ]
  },
  {
   "cell_type": "code",
   "execution_count": 100,
   "metadata": {},
   "outputs": [
    {
     "name": "stdout",
     "output_type": "stream",
     "text": [
      "[ 9 -2  7]\n",
      "[[ 2  9  3  9]\n",
      " [ 1 -2  1 -2]\n",
      " [ 3  7  2  7]]\n"
     ]
    }
   ],
   "source": [
    "d = a[:, 3]\n",
    "print(d)\n",
    "cm = np.copy(a) # making a copy of matrix\n",
    "cm = np.delete(cm, (1), axis = 1)\n",
    "cm = np.insert(cm, (1), d, axis = 1)\n",
    "print(cm)"
   ]
  },
  {
   "cell_type": "code",
   "execution_count": 106,
   "metadata": {},
   "outputs": [
    {
     "name": "stdout",
     "output_type": "stream",
     "text": [
      "/home/dan\r\n",
      " Determinant.ipynb\t\t  'Reverse matrix.ipynb'   Untitled3.ipynb\r\n",
      "'linear equations complex.ipynb'   Untitled1.ipynb\t   Untitled.ipynb\r\n",
      "'linear equations solver.ipynb'    Untitled2.ipynb\r\n"
     ]
    }
   ],
   "source": [
    "!pwd && ls *.ipynb"
   ]
  },
  {
   "cell_type": "code",
   "execution_count": 119,
   "metadata": {},
   "outputs": [
    {
     "name": "stdout",
     "output_type": "stream",
     "text": [
      "total 148\r\n",
      "drwxr-xr-x 26 dan dan  4096 июл 11  2019  anaconda2\r\n",
      "drwxr-xr-x  2 dan dan  4096 июл  8  2019  Desktop\r\n",
      "-rw-r--r--  1 dan dan  7096 апр 26 12:17  Determinant.ipynb\r\n",
      "drwxr-xr-x  3 dan dan  4096 апр 22 20:35  dockers\r\n",
      "drwxr-xr-x  2 dan dan  4096 июл  8  2019  Documents\r\n",
      "drwxr-xr-x  3 dan dan  4096 июл 12  2019  Downloads\r\n",
      "-rw-r--r--  1 dan dan   182 июл 12  2019  flex_file.txt\r\n",
      "-rw-r--r--  1 dan dan  5017 апр 26 11:13 'linear equations complex.ipynb'\r\n",
      "-rw-r--r--  1 dan dan  7564 апр 26 12:51 'linear equations solver.ipynb'\r\n",
      "drwxr-xr-x  2 dan dan  4096 июл  8  2019  Music\r\n",
      "drwxr-xr-x  8 dan dan  4096 апр 26 12:16  Nextcloud\r\n",
      "drwxr-xr-x  2 dan dan  4096 апр 22 20:24  pg\r\n",
      "drwxr-xr-x  2 dan dan  4096 июл  8  2019  Pictures\r\n",
      "drwxr-xr-x  2 dan dan  4096 апр 26 12:34  prjects\r\n",
      "drwxr-xr-x  2 dan dan  4096 апр 26 12:49  projects\r\n",
      "drwxr-xr-x  2 dan dan  4096 июл  8  2019  Public\r\n",
      "-rw-r--r--  1 dan dan  3580 апр 26 12:33 'Reverse matrix.ipynb'\r\n",
      "drwxr-xr-x  2 dan dan  4096 июл  8  2019  Templates\r\n",
      "-rw-r--r--  1 dan dan 21845 июл 12  2019  Untitled1.ipynb\r\n",
      "-rw-r--r--  1 dan dan  3158 апр 12 16:55  Untitled2.ipynb\r\n",
      "-rw-r--r--  1 dan dan    72 апр 24 18:17  Untitled3.ipynb\r\n",
      "-rw-r--r--  1 dan dan 20489 июл 10  2019  Untitled.ipynb\r\n",
      "drwxr-xr-x  2 dan dan  4096 июл  8  2019  Videos\r\n",
      "-rw-r--r--  1 dan dan   567 июл 10  2019  VIflex\r\n"
     ]
    }
   ],
   "source": [
    "!ls -l"
   ]
  },
  {
   "cell_type": "code",
   "execution_count": null,
   "metadata": {},
   "outputs": [],
   "source": [
    "!prjects/"
   ]
  },
  {
   "cell_type": "code",
   "execution_count": 118,
   "metadata": {},
   "outputs": [],
   "source": [
    "!ls prjects"
   ]
  },
  {
   "cell_type": "code",
   "execution_count": 112,
   "metadata": {},
   "outputs": [],
   "source": [
    "!mv Linear\\ Algebra\\ methods prjects/"
   ]
  },
  {
   "cell_type": "code",
   "execution_count": null,
   "metadata": {},
   "outputs": [],
   "source": []
  }
 ],
 "metadata": {
  "kernelspec": {
   "display_name": "Python 3",
   "language": "python",
   "name": "python3"
  },
  "language_info": {
   "codemirror_mode": {
    "name": "ipython",
    "version": 3
   },
   "file_extension": ".py",
   "mimetype": "text/x-python",
   "name": "python",
   "nbconvert_exporter": "python",
   "pygments_lexer": "ipython3",
   "version": "3.7.4"
  }
 },
 "nbformat": 4,
 "nbformat_minor": 2
}
